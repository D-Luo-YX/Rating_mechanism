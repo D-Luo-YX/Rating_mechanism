{
 "cells": [
  {
   "cell_type": "code",
   "execution_count": 15,
   "metadata": {},
   "outputs": [],
   "source": [
    "import numpy\n",
    "import os\n",
    "import pandas as pd"
   ]
  },
  {
   "cell_type": "markdown",
   "metadata": {},
   "source": [
    "## 目录说明\n",
    "\n",
    "1. **raw_data 文件夹**：包含处理成矩阵之前的原始数据。文件夹内有编号从128到378的子文件夹，这些编号按日期由旧至新排列（128号最旧，378号最新，没有间断）。\n",
    "   - **big.csv**：记录两位选手之间的胜利次数的大比分信息。\n",
    "   - **small.csv**：详细记录了选手在每场比赛中的胜负情况。\n",
    "   - **rank.txt**：此文件包括两列，第一列是选手ID，第二列显示选手排名；如果排名为-1，则表示该选手可能因为是新人而无法查到排名。\n",
    "   - **raw_data.csv**：存放着最原始的数据。还有一个未经时间分割、体积较大的原始文件（2GB+）未提供。\n",
    "\n",
    "2. **data 文件夹**：包含已经处理好的数据。\n",
    "   - 包含编号从128到378的一系列 `.npy` 文件，每个文件代表一个特定时期的对决矩阵，其中128号是最旧的数据，378号是最新的数据。"
   ]
  },
  {
   "cell_type": "markdown",
   "metadata": {},
   "source": [
    "## 2. data文件夹（对决矩阵）"
   ]
  },
  {
   "cell_type": "code",
   "execution_count": 5,
   "metadata": {},
   "outputs": [],
   "source": [
    "files = os.listdir('./data/')"
   ]
  },
  {
   "cell_type": "markdown",
   "metadata": {},
   "source": [
    "文件是从旧到新排列的，每个文件统计的都是1个月时间段的数据。\n",
    "\n",
    "例如：\n",
    "> 128.npy"
   ]
  },
  {
   "cell_type": "code",
   "execution_count": null,
   "metadata": {},
   "outputs": [
    {
     "data": {
      "text/plain": [
       "['128.npy', '130.npy', '132.npy', '134.npy', '136.npy']"
      ]
     },
     "execution_count": 7,
     "metadata": {},
     "output_type": "execute_result"
    }
   ],
   "source": [
    "files[:5]"
   ]
  },
  {
   "cell_type": "code",
   "execution_count": 2,
   "metadata": {},
   "outputs": [],
   "source": [
    "data = numpy.load('./data/128.npy')"
   ]
  },
  {
   "cell_type": "code",
   "execution_count": 10,
   "metadata": {},
   "outputs": [
    {
     "name": "stdout",
     "output_type": "stream",
     "text": [
      "(101, 101)\n"
     ]
    }
   ],
   "source": [
    "print(data.shape)"
   ]
  },
  {
   "cell_type": "code",
   "execution_count": 11,
   "metadata": {},
   "outputs": [
    {
     "data": {
      "text/plain": [
       "array([[0., 0., 0., ..., 0., 0., 0.],\n",
       "       [2., 0., 3., ..., 0., 0., 0.],\n",
       "       [0., 1., 0., ..., 0., 0., 0.],\n",
       "       ...,\n",
       "       [0., 0., 0., ..., 0., 0., 2.],\n",
       "       [0., 0., 0., ..., 0., 0., 0.],\n",
       "       [0., 0., 0., ..., 0., 0., 4.]])"
      ]
     },
     "execution_count": 11,
     "metadata": {},
     "output_type": "execute_result"
    }
   ],
   "source": [
    "data"
   ]
  },
  {
   "cell_type": "code",
   "execution_count": 13,
   "metadata": {},
   "outputs": [
    {
     "name": "stdout",
     "output_type": "stream",
     "text": [
      "3.0\n",
      "1.0\n"
     ]
    }
   ],
   "source": [
    "print(data[1, 2])\n",
    "print(data[2, 1])"
   ]
  },
  {
   "cell_type": "markdown",
   "metadata": {},
   "source": [
    "这个矩阵的shape是$(101, 101)$， 矩阵当中的值就是选手的交手情况例如 data[1, 2] = 3， data[2, 1] = 1, 表示排名第2的选手打赢了排名第3的选手2局，排名第3的选手打赢了排名第2的选手1局"
   ]
  },
  {
   "cell_type": "code",
   "execution_count": 14,
   "metadata": {},
   "outputs": [
    {
     "name": "stdout",
     "output_type": "stream",
     "text": [
      "(101, 101)\n"
     ]
    }
   ],
   "source": [
    "print(data.shape)"
   ]
  },
  {
   "cell_type": "markdown",
   "metadata": {},
   "source": [
    "## 3. 原始数据说明（选用）"
   ]
  },
  {
   "cell_type": "markdown",
   "metadata": {},
   "source": [
    "### 3.1 big.csv"
   ]
  },
  {
   "cell_type": "code",
   "execution_count": 17,
   "metadata": {},
   "outputs": [],
   "source": [
    "df1 = pd.read_csv('./raw_data/128/big.csv', encoding='utf-8')"
   ]
  },
  {
   "cell_type": "code",
   "execution_count": 18,
   "metadata": {},
   "outputs": [
    {
     "data": {
      "text/html": [
       "<div>\n",
       "<style scoped>\n",
       "    .dataframe tbody tr th:only-of-type {\n",
       "        vertical-align: middle;\n",
       "    }\n",
       "\n",
       "    .dataframe tbody tr th {\n",
       "        vertical-align: top;\n",
       "    }\n",
       "\n",
       "    .dataframe thead th {\n",
       "        text-align: right;\n",
       "    }\n",
       "</style>\n",
       "<table border=\"1\" class=\"dataframe\">\n",
       "  <thead>\n",
       "    <tr style=\"text-align: right;\">\n",
       "      <th></th>\n",
       "      <th>pla_id</th>\n",
       "      <th>plb_id</th>\n",
       "      <th>total_score</th>\n",
       "    </tr>\n",
       "  </thead>\n",
       "  <tbody>\n",
       "    <tr>\n",
       "      <th>0</th>\n",
       "      <td>1</td>\n",
       "      <td>29</td>\n",
       "      <td>2</td>\n",
       "    </tr>\n",
       "    <tr>\n",
       "      <th>1</th>\n",
       "      <td>1</td>\n",
       "      <td>45</td>\n",
       "      <td>0</td>\n",
       "    </tr>\n",
       "    <tr>\n",
       "      <th>2</th>\n",
       "      <td>1</td>\n",
       "      <td>105</td>\n",
       "      <td>2</td>\n",
       "    </tr>\n",
       "    <tr>\n",
       "      <th>3</th>\n",
       "      <td>1</td>\n",
       "      <td>109</td>\n",
       "      <td>0</td>\n",
       "    </tr>\n",
       "    <tr>\n",
       "      <th>4</th>\n",
       "      <td>1</td>\n",
       "      <td>110</td>\n",
       "      <td>1</td>\n",
       "    </tr>\n",
       "  </tbody>\n",
       "</table>\n",
       "</div>"
      ],
      "text/plain": [
       "   pla_id  plb_id  total_score\n",
       "0       1      29            2\n",
       "1       1      45            0\n",
       "2       1     105            2\n",
       "3       1     109            0\n",
       "4       1     110            1"
      ]
     },
     "execution_count": 18,
     "metadata": {},
     "output_type": "execute_result"
    }
   ],
   "source": [
    "df1.head()"
   ]
  },
  {
   "cell_type": "markdown",
   "metadata": {},
   "source": [
    "1. pla_id: 选手A的id\n",
    "2. plb_id: 选手B的id\n",
    "3. total_score: 选手A对选手B的胜利次数\n"
   ]
  },
  {
   "cell_type": "markdown",
   "metadata": {},
   "source": [
    "### 3.2 small.csv"
   ]
  },
  {
   "cell_type": "code",
   "execution_count": 19,
   "metadata": {},
   "outputs": [],
   "source": [
    "df2 = pd.read_csv('./raw_data/128/small.csv', encoding='utf-8')"
   ]
  },
  {
   "cell_type": "code",
   "execution_count": 20,
   "metadata": {},
   "outputs": [
    {
     "data": {
      "text/html": [
       "<div>\n",
       "<style scoped>\n",
       "    .dataframe tbody tr th:only-of-type {\n",
       "        vertical-align: middle;\n",
       "    }\n",
       "\n",
       "    .dataframe tbody tr th {\n",
       "        vertical-align: top;\n",
       "    }\n",
       "\n",
       "    .dataframe thead th {\n",
       "        text-align: right;\n",
       "    }\n",
       "</style>\n",
       "<table border=\"1\" class=\"dataframe\">\n",
       "  <thead>\n",
       "    <tr style=\"text-align: right;\">\n",
       "      <th></th>\n",
       "      <th>pla_id</th>\n",
       "      <th>plb_id</th>\n",
       "      <th>total_score</th>\n",
       "    </tr>\n",
       "  </thead>\n",
       "  <tbody>\n",
       "    <tr>\n",
       "      <th>0</th>\n",
       "      <td>1</td>\n",
       "      <td>29</td>\n",
       "      <td>1</td>\n",
       "    </tr>\n",
       "    <tr>\n",
       "      <th>1</th>\n",
       "      <td>1</td>\n",
       "      <td>45</td>\n",
       "      <td>0</td>\n",
       "    </tr>\n",
       "    <tr>\n",
       "      <th>2</th>\n",
       "      <td>1</td>\n",
       "      <td>105</td>\n",
       "      <td>1</td>\n",
       "    </tr>\n",
       "    <tr>\n",
       "      <th>3</th>\n",
       "      <td>1</td>\n",
       "      <td>109</td>\n",
       "      <td>0</td>\n",
       "    </tr>\n",
       "    <tr>\n",
       "      <th>4</th>\n",
       "      <td>1</td>\n",
       "      <td>110</td>\n",
       "      <td>1</td>\n",
       "    </tr>\n",
       "  </tbody>\n",
       "</table>\n",
       "</div>"
      ],
      "text/plain": [
       "   pla_id  plb_id  total_score\n",
       "0       1      29            1\n",
       "1       1      45            0\n",
       "2       1     105            1\n",
       "3       1     109            0\n",
       "4       1     110            1"
      ]
     },
     "execution_count": 20,
     "metadata": {},
     "output_type": "execute_result"
    }
   ],
   "source": [
    "df2.head()"
   ]
  },
  {
   "cell_type": "markdown",
   "metadata": {},
   "source": [
    "1. pla_id和plb_id的含义同上\n",
    "2. total_score: 是整体的胜利情况. 如果选手A对选手B的胜利次数高于选手B对选手A的胜利次数，那么这个值就记为1"
   ]
  },
  {
   "cell_type": "markdown",
   "metadata": {},
   "source": [
    "### 3.3 rank.txt"
   ]
  },
  {
   "cell_type": "code",
   "execution_count": 23,
   "metadata": {},
   "outputs": [
    {
     "data": {
      "text/html": [
       "<div>\n",
       "<style scoped>\n",
       "    .dataframe tbody tr th:only-of-type {\n",
       "        vertical-align: middle;\n",
       "    }\n",
       "\n",
       "    .dataframe tbody tr th {\n",
       "        vertical-align: top;\n",
       "    }\n",
       "\n",
       "    .dataframe thead th {\n",
       "        text-align: right;\n",
       "    }\n",
       "</style>\n",
       "<table border=\"1\" class=\"dataframe\">\n",
       "  <thead>\n",
       "    <tr style=\"text-align: right;\">\n",
       "      <th></th>\n",
       "      <th>player_id</th>\n",
       "      <th>rank</th>\n",
       "    </tr>\n",
       "  </thead>\n",
       "  <tbody>\n",
       "    <tr>\n",
       "      <th>0</th>\n",
       "      <td>10</td>\n",
       "      <td>-1</td>\n",
       "    </tr>\n",
       "    <tr>\n",
       "      <th>1</th>\n",
       "      <td>47</td>\n",
       "      <td>-1</td>\n",
       "    </tr>\n",
       "    <tr>\n",
       "      <th>2</th>\n",
       "      <td>4495</td>\n",
       "      <td>-1</td>\n",
       "    </tr>\n",
       "    <tr>\n",
       "      <th>3</th>\n",
       "      <td>34</td>\n",
       "      <td>1</td>\n",
       "    </tr>\n",
       "    <tr>\n",
       "      <th>4</th>\n",
       "      <td>3</td>\n",
       "      <td>2</td>\n",
       "    </tr>\n",
       "  </tbody>\n",
       "</table>\n",
       "</div>"
      ],
      "text/plain": [
       "   player_id  rank\n",
       "0         10    -1\n",
       "1         47    -1\n",
       "2       4495    -1\n",
       "3         34     1\n",
       "4          3     2"
      ]
     },
     "execution_count": 23,
     "metadata": {},
     "output_type": "execute_result"
    }
   ],
   "source": [
    "rank = pd.read_csv('./raw_data/128/rank.txt', names=['player_id', 'rank'])\n",
    "rank.head()"
   ]
  },
  {
   "cell_type": "markdown",
   "metadata": {},
   "source": [
    "* 第一列是选手的id\n",
    "* 第二列是选手在这个月的排名，-1表示这个选手查不到排名(可能是新选手)"
   ]
  },
  {
   "cell_type": "markdown",
   "metadata": {},
   "source": [
    "### 3.4 raw_data.csv"
   ]
  },
  {
   "cell_type": "code",
   "execution_count": 27,
   "metadata": {},
   "outputs": [],
   "source": [
    "df3 = pd.read_csv('./raw_data/128/raw_data.csv', encoding='utf-8', index_col=0)"
   ]
  },
  {
   "cell_type": "code",
   "execution_count": 28,
   "metadata": {},
   "outputs": [
    {
     "data": {
      "text/html": [
       "<div>\n",
       "<style scoped>\n",
       "    .dataframe tbody tr th:only-of-type {\n",
       "        vertical-align: middle;\n",
       "    }\n",
       "\n",
       "    .dataframe tbody tr th {\n",
       "        vertical-align: top;\n",
       "    }\n",
       "\n",
       "    .dataframe thead th {\n",
       "        text-align: right;\n",
       "    }\n",
       "</style>\n",
       "<table border=\"1\" class=\"dataframe\">\n",
       "  <thead>\n",
       "    <tr style=\"text-align: right;\">\n",
       "      <th></th>\n",
       "      <th>id</th>\n",
       "      <th>period_id</th>\n",
       "      <th>date</th>\n",
       "      <th>pla_id</th>\n",
       "      <th>plb_id</th>\n",
       "      <th>sca</th>\n",
       "      <th>scb</th>\n",
       "      <th>rca</th>\n",
       "      <th>rcb</th>\n",
       "      <th>eventobj_id</th>\n",
       "      <th>game</th>\n",
       "      <th>offline</th>\n",
       "      <th>position_a</th>\n",
       "      <th>position_a_vp</th>\n",
       "      <th>position_a_vt</th>\n",
       "      <th>position_a_vz</th>\n",
       "      <th>position_b</th>\n",
       "      <th>position_b_vp</th>\n",
       "      <th>position_b_vt</th>\n",
       "      <th>position_b_vz</th>\n",
       "    </tr>\n",
       "    <tr>\n",
       "      <th>index</th>\n",
       "      <th></th>\n",
       "      <th></th>\n",
       "      <th></th>\n",
       "      <th></th>\n",
       "      <th></th>\n",
       "      <th></th>\n",
       "      <th></th>\n",
       "      <th></th>\n",
       "      <th></th>\n",
       "      <th></th>\n",
       "      <th></th>\n",
       "      <th></th>\n",
       "      <th></th>\n",
       "      <th></th>\n",
       "      <th></th>\n",
       "      <th></th>\n",
       "      <th></th>\n",
       "      <th></th>\n",
       "      <th></th>\n",
       "      <th></th>\n",
       "    </tr>\n",
       "  </thead>\n",
       "  <tbody>\n",
       "    <tr>\n",
       "      <th>0</th>\n",
       "      <td>135844</td>\n",
       "      <td>128</td>\n",
       "      <td>2015-01-09</td>\n",
       "      <td>146</td>\n",
       "      <td>747</td>\n",
       "      <td>2</td>\n",
       "      <td>0</td>\n",
       "      <td>Z</td>\n",
       "      <td>Z</td>\n",
       "      <td>39652</td>\n",
       "      <td>HotS</td>\n",
       "      <td>f</td>\n",
       "      <td>44</td>\n",
       "      <td>46</td>\n",
       "      <td>48</td>\n",
       "      <td>33</td>\n",
       "      <td>64</td>\n",
       "      <td>59</td>\n",
       "      <td>64</td>\n",
       "      <td>67</td>\n",
       "    </tr>\n",
       "    <tr>\n",
       "      <th>1</th>\n",
       "      <td>135833</td>\n",
       "      <td>128</td>\n",
       "      <td>2015-01-09</td>\n",
       "      <td>111</td>\n",
       "      <td>146</td>\n",
       "      <td>1</td>\n",
       "      <td>2</td>\n",
       "      <td>Z</td>\n",
       "      <td>Z</td>\n",
       "      <td>39651</td>\n",
       "      <td>HotS</td>\n",
       "      <td>f</td>\n",
       "      <td>33</td>\n",
       "      <td>21</td>\n",
       "      <td>53</td>\n",
       "      <td>32</td>\n",
       "      <td>44</td>\n",
       "      <td>46</td>\n",
       "      <td>48</td>\n",
       "      <td>33</td>\n",
       "    </tr>\n",
       "    <tr>\n",
       "      <th>2</th>\n",
       "      <td>135749</td>\n",
       "      <td>128</td>\n",
       "      <td>2015-01-09</td>\n",
       "      <td>4452</td>\n",
       "      <td>1171</td>\n",
       "      <td>2</td>\n",
       "      <td>0</td>\n",
       "      <td>T</td>\n",
       "      <td>P</td>\n",
       "      <td>39648</td>\n",
       "      <td>HotS</td>\n",
       "      <td>f</td>\n",
       "      <td>194</td>\n",
       "      <td>195</td>\n",
       "      <td>198</td>\n",
       "      <td>194</td>\n",
       "      <td>304</td>\n",
       "      <td>266</td>\n",
       "      <td>331</td>\n",
       "      <td>319</td>\n",
       "    </tr>\n",
       "    <tr>\n",
       "      <th>3</th>\n",
       "      <td>135827</td>\n",
       "      <td>128</td>\n",
       "      <td>2015-01-09</td>\n",
       "      <td>2170</td>\n",
       "      <td>485</td>\n",
       "      <td>1</td>\n",
       "      <td>2</td>\n",
       "      <td>P</td>\n",
       "      <td>Z</td>\n",
       "      <td>39650</td>\n",
       "      <td>HotS</td>\n",
       "      <td>f</td>\n",
       "      <td>65</td>\n",
       "      <td>65</td>\n",
       "      <td>78</td>\n",
       "      <td>56</td>\n",
       "      <td>140</td>\n",
       "      <td>145</td>\n",
       "      <td>128</td>\n",
       "      <td>146</td>\n",
       "    </tr>\n",
       "    <tr>\n",
       "      <th>4</th>\n",
       "      <td>135558</td>\n",
       "      <td>128</td>\n",
       "      <td>2015-01-09</td>\n",
       "      <td>54</td>\n",
       "      <td>51</td>\n",
       "      <td>2</td>\n",
       "      <td>1</td>\n",
       "      <td>T</td>\n",
       "      <td>P</td>\n",
       "      <td>39583</td>\n",
       "      <td>HotS</td>\n",
       "      <td>t</td>\n",
       "      <td>25</td>\n",
       "      <td>30</td>\n",
       "      <td>31</td>\n",
       "      <td>19</td>\n",
       "      <td>16</td>\n",
       "      <td>37</td>\n",
       "      <td>28</td>\n",
       "      <td>4</td>\n",
       "    </tr>\n",
       "  </tbody>\n",
       "</table>\n",
       "</div>"
      ],
      "text/plain": [
       "           id  period_id        date  pla_id  plb_id  sca  scb rca rcb  \\\n",
       "index                                                                    \n",
       "0      135844        128  2015-01-09     146     747    2    0   Z   Z   \n",
       "1      135833        128  2015-01-09     111     146    1    2   Z   Z   \n",
       "2      135749        128  2015-01-09    4452    1171    2    0   T   P   \n",
       "3      135827        128  2015-01-09    2170     485    1    2   P   Z   \n",
       "4      135558        128  2015-01-09      54      51    2    1   T   P   \n",
       "\n",
       "       eventobj_id  game offline  position_a  position_a_vp  position_a_vt  \\\n",
       "index                                                                        \n",
       "0            39652  HotS       f          44             46             48   \n",
       "1            39651  HotS       f          33             21             53   \n",
       "2            39648  HotS       f         194            195            198   \n",
       "3            39650  HotS       f          65             65             78   \n",
       "4            39583  HotS       t          25             30             31   \n",
       "\n",
       "       position_a_vz  position_b  position_b_vp  position_b_vt  position_b_vz  \n",
       "index                                                                          \n",
       "0                 33          64             59             64             67  \n",
       "1                 32          44             46             48             33  \n",
       "2                194         304            266            331            319  \n",
       "3                 56         140            145            128            146  \n",
       "4                 19          16             37             28              4  "
      ]
     },
     "execution_count": 28,
     "metadata": {},
     "output_type": "execute_result"
    }
   ],
   "source": [
    "df3.head()"
   ]
  },
  {
   "cell_type": "code",
   "execution_count": 29,
   "metadata": {},
   "outputs": [
    {
     "name": "stdout",
     "output_type": "stream",
     "text": [
      "<class 'pandas.core.frame.DataFrame'>\n",
      "Index: 259 entries, 0 to 120\n",
      "Data columns (total 20 columns):\n",
      " #   Column         Non-Null Count  Dtype \n",
      "---  ------         --------------  ----- \n",
      " 0   id             259 non-null    int64 \n",
      " 1   period_id      259 non-null    int64 \n",
      " 2   date           259 non-null    object\n",
      " 3   pla_id         259 non-null    int64 \n",
      " 4   plb_id         259 non-null    int64 \n",
      " 5   sca            259 non-null    int64 \n",
      " 6   scb            259 non-null    int64 \n",
      " 7   rca            259 non-null    object\n",
      " 8   rcb            259 non-null    object\n",
      " 9   eventobj_id    259 non-null    int64 \n",
      " 10  game           259 non-null    object\n",
      " 11  offline        259 non-null    object\n",
      " 12  position_a     259 non-null    int64 \n",
      " 13  position_a_vp  259 non-null    int64 \n",
      " 14  position_a_vt  259 non-null    int64 \n",
      " 15  position_a_vz  259 non-null    int64 \n",
      " 16  position_b     259 non-null    int64 \n",
      " 17  position_b_vp  259 non-null    int64 \n",
      " 18  position_b_vt  259 non-null    int64 \n",
      " 19  position_b_vz  259 non-null    int64 \n",
      "dtypes: int64(15), object(5)\n",
      "memory usage: 42.5+ KB\n"
     ]
    }
   ],
   "source": [
    "df3.info()"
   ]
  },
  {
   "cell_type": "markdown",
   "metadata": {},
   "source": [
    "### 数据字段说明\n",
    "\n",
    "在提供的数据中，`raw_data.csv` 或者类似的文件包含了详细的对决信息。以下是各个字段的简要说明：\n",
    "\n",
    "- **id**：每场对决的唯一标识符。\n",
    "- **period_id**：这场比赛所属的时间段（周期）ID，是一个外键，用于关联到特定的时间段或赛季。\n",
    "- **date**：比赛的具体日期。\n",
    "- **pla_id**：选手A的ID，可以通过这个ID查询该选手的详细信息，如所属战队、昵称等。\n",
    "- **plb_id**：选手B的ID，与`pla_id`类似，用来识别另一位参赛选手。\n",
    "- **sca**：选手A获得的分数，实际上代表的是赢得的比赛场数。\n",
    "- **scb**：选手B获得的分数，同`sca`。\n",
    "- **rca**：选手A选择的比赛种族，共有4种选项：T（人族）、P（神族）、Z（虫族）、R（随机种族）。\n",
    "- **rcb**：选手B选择的比赛种族，同`rca`。\n",
    "- **event_id**：这场比赛所属赛事的ID，是一个外键，指向具体的赛事详情。\n",
    "- **game**：比赛使用的游戏版本，可能包括自由之翼、虫群之心、虚空之遗等。游戏版本是向下兼容的。\n",
    "- **offline**：指示这场比赛是否为线下赛。\n",
    "- **position_a, position_a_vp, position_a_vt, position_a_vz**：分别表示选手A的综合排名、神族排名、人族排名以及虫族排名。\n",
    "- **position_b, position_b_vp, position_b_vt, position_b_vz**：分别表示选手B的相应排名。\n",
    "\n",
    "> 注意：部分表格由于体积较大，未包含在当前数据集内。"
   ]
  }
 ],
 "metadata": {
  "kernelspec": {
   "display_name": "Python 3 (ipykernel)",
   "language": "python",
   "name": "python3"
  },
  "language_info": {
   "codemirror_mode": {
    "name": "ipython",
    "version": 3
   },
   "file_extension": ".py",
   "mimetype": "text/x-python",
   "name": "python",
   "nbconvert_exporter": "python",
   "pygments_lexer": "ipython3",
   "version": "3.9.13"
  }
 },
 "nbformat": 4,
 "nbformat_minor": 2
}
